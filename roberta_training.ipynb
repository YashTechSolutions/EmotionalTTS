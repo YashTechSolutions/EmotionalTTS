{
  "cells": [
    {
      "cell_type": "code",
      "id": "ns9uWSw209syvPNxMIVIZih2",
      "metadata": {
        "tags": [],
        "id": "ns9uWSw209syvPNxMIVIZih2"
      },
      "source": [
        "from google.colab import drive\n",
        "import pandas as pd\n",
        "import matplotlib.pyplot as plt\n",
        "import torch\n",
        "from torch.utils.data import Dataset, DataLoader\n",
        "from transformers import BertTokenizer, BertForSequenceClassification, RobertaTokenizer, RobertaForSequenceClassification\n",
        "from torch.optim import AdamW\n",
        "from torch.nn import CrossEntropyLoss\n",
        "from sklearn.model_selection import train_test_split\n",
        "from tqdm import tqdm\n",
        "from sklearn.metrics import classification_report, confusion_matrix\n",
        "import seaborn as sns\n",
        "import nltk\n",
        "from nltk.sentiment.vader import SentimentIntensityAnalyzer\n",
        "from collections import defaultdict"
      ],
      "execution_count": null,
      "outputs": []
    },
    {
      "cell_type": "code",
      "source": [
        "from google.cloud import storage\n",
        "import os\n",
        "\n",
        "# Authenticate\n",
        "# os.environ[\"GOOGLE_APPLICATION_CREDENTIALS\"] = \"/path/to/your/service_account.json\"  # only if not auto-authenticated\n",
        "\n",
        "# Access bucket\n",
        "client = storage.Client()\n",
        "bucket = client.get_bucket('sutd_ai_project')\n",
        "blob = bucket.blob('combined_sentiment_data.csv')\n",
        "blob.download_to_filename('combined_sentiment_data.csv')"
      ],
      "metadata": {
        "id": "2xrVHz_F-Pku"
      },
      "id": "2xrVHz_F-Pku",
      "execution_count": null,
      "outputs": []
    },
    {
      "cell_type": "code",
      "source": [
        "import gcsfs\n",
        "import pandas as pd\n",
        "\n",
        "fs = gcsfs.GCSFileSystem()\n",
        "with fs.open('gs://sutd_ai_project/combined_sentiment_data.csv') as f:\n",
        "    df2 = pd.read_csv(f)\n",
        "    df2.columns = ['text', 'sentiment']"
      ],
      "metadata": {
        "id": "4nkGiX2A9xZ5"
      },
      "id": "4nkGiX2A9xZ5",
      "execution_count": null,
      "outputs": []
    },
    {
      "cell_type": "code",
      "source": [
        "print(\"Missing values:\")\n",
        "print(df2.isnull().sum())\n",
        "df2 = df2.dropna()\n",
        "\n",
        "plt.figure(figsize=(10,5))\n",
        "sns.countplot(data=df2, x='sentiment', order=df2['sentiment'].value_counts().index)\n",
        "plt.xticks(rotation=45)\n",
        "plt.title(\"Sentiment Distribution\")\n",
        "plt.show()"
      ],
      "metadata": {
        "colab": {
          "base_uri": "https://localhost:8080/",
          "height": 595
        },
        "id": "3NAWeCn89zwx",
        "outputId": "c50ae44d-ed57-42a0-c918-46efcadbde92"
      },
      "id": "3NAWeCn89zwx",
      "execution_count": null,
      "outputs": [
        {
          "output_type": "stream",
          "name": "stdout",
          "text": [
            "Missing values:\n",
            "text         0\n",
            "sentiment    0\n",
            "dtype: int64\n"
          ]
        },
        {
          "output_type": "display_data",
          "data": {
            "text/plain": [
              "<Figure size 1000x500 with 1 Axes>"
            ],
            "image/png": "[encoded data removed]"
          },
          "metadata": {}
        }
      ]
    },
    {
      "cell_type": "code",
      "source": [
        "nltk.download('vader_lexicon')\n",
        "sid = SentimentIntensityAnalyzer()\n",
        "\n",
        "# Define Singlish lexicon\n",
        "singlish_lexicon = {\n",
        "    \"shiok\": 1.2, \"sian\": -1.0, \"aiyah\": -0.3, \"aiyo\": -0.6, \"sabo\": -1.2,\n",
        "    \"steady\": 0.8, \"steady lah\": 1.0, \"relac\": 0.6, \"chiong\": 0.3, \"lepak\": 0.7,\n",
        "    \"ang moh\": 0.0, \"chio\": 0.9, \"makan\": 0.3, \"bo jio\": -0.6, \"paiseh\": -0.2,\n",
        "    \"alamak\": -0.8, \"wah lao\": -0.6, \"wah piang\": -0.6, \"lah\": 0.1, \"leh\": 0.1,\n",
        "    \"lor\": 0.05, \"meh\": -0.1, \"hor\": 0.1, \"can lah\": 0.5, \"no need lah\": -0.3,\n",
        "    \"okay lah\": 0.5, \"don’t play play\": 0.3, \"jialat\": -1.2, \"jialat sia\": -1.5,\n",
        "    \"heng ah\": 0.8, \"wah so good\": 1.0, \"wah so bad\": -1.0, \"buay tahan\": -0.9,\n",
        "    \"shiok sia\": 1.0, \"win liao lor\": 1.0, \"confirm plus chop\": 0.9, \"bo chup\": -0.4,\n",
        "    \"act blur\": -0.6, \"blur like sotong\": -0.9, \"lim kopi\": 0.5, \"lim teh\": 0.3,\n",
        "    \"catch no ball\": -0.3, \"don’t anyhow\": -0.3, \"so stress sia\": -1.2,\n",
        "    \"ownself check ownself\": -0.5, \"talk cock\": -0.6, \"chio bu\": 0.9,\n",
        "    \"ah beng\": -0.3, \"ah lian\": -0.3, \"guai kia\": 0.6, \"kancheong spider\": -0.5,\n",
        "    \"spoil market\": -0.4, \"last warning ah\": -0.8\n",
        "}\n",
        "\n",
        "# Extract all unique words from df2['text']\n",
        "unique_words = set()\n",
        "for text in df2['text']:\n",
        "    words = text.lower().split()\n",
        "    unique_words.update(words)\n",
        "\n",
        "# Compute sentiment score: use Singlish lexicon if available, else VADER\n",
        "word_sentiment_scores = []\n",
        "for word in unique_words:\n",
        "    if word in singlish_lexicon:\n",
        "        score = singlish_lexicon[word]\n",
        "    else:\n",
        "        score = sid.polarity_scores(word)['compound']\n",
        "    word_sentiment_scores.append({'text': word, 'sentiment_score': score})\n",
        "\n",
        "# Create final DataFrame\n",
        "final_df = pd.DataFrame(word_sentiment_scores)\n",
        "\n",
        "# Optional: sort by score\n",
        "final_df = final_df.sort_values(by='sentiment_score', ascending=False)\n",
        "\n",
        "# Show sample\n",
        "print(final_df.head(10))"
      ],
      "metadata": {
        "colab": {
          "base_uri": "https://localhost:8080/"
        },
        "id": "37xeGkOJ91GQ",
        "outputId": "012b1f06-b7fe-4594-e9ba-c67759479bfb"
      },
      "id": "37xeGkOJ91GQ",
      "execution_count": null,
      "outputs": [
        {
          "output_type": "stream",
          "name": "stdout",
          "text": [
            "              text  sentiment_score\n",
            "1626     awesome!!           0.6892\n",
            "5063       great!!           0.6892\n",
            "2621    amazing!!!           0.6884\n",
            "6351  delicious!!!           0.6784\n",
            "4012    perfectly!           0.6696\n",
            "8160      awesome!           0.6588\n",
            "5149        great!           0.6588\n",
            "4992     amazing!!           0.6580\n",
            "7381   delicious!!           0.6467\n",
            "5826      paradise           0.6369\n"
          ]
        },
        {
          "output_type": "stream",
          "name": "stderr",
          "text": [
            "[nltk_data] Downloading package vader_lexicon to /root/nltk_data...\n",
            "[nltk_data]   Package vader_lexicon is already up-to-date!\n"
          ]
        }
      ]
    },
    {
      "cell_type": "code",
      "source": [
        "# Convert sentiment score to label\n",
        "def score_to_label(score):\n",
        "    if score >= 0.05:\n",
        "        return 2  # positive\n",
        "    elif score <= -0.05:\n",
        "        return 0  # negative\n",
        "    else:\n",
        "        return 1  # neutral\n",
        "\n",
        "final_df['label'] = final_df['sentiment_score'].apply(score_to_label)"
      ],
      "metadata": {
        "id": "PgbFFlHB_u_8"
      },
      "id": "PgbFFlHB_u_8",
      "execution_count": null,
      "outputs": []
    },
    {
      "cell_type": "code",
      "source": [
        "# Tokenize text\n",
        "from transformers import RobertaTokenizer\n",
        "\n",
        "tokenizer = RobertaTokenizer.from_pretrained('roberta-base')\n",
        "\n",
        "encodings = tokenizer(final_df['text'].tolist(), truncation=True, padding=True)\n",
        "labels = final_df['label'].tolist()"
      ],
      "metadata": {
        "id": "7mYqZ4ds_6oL"
      },
      "id": "7mYqZ4ds_6oL",
      "execution_count": null,
      "outputs": []
    },
    {
      "cell_type": "code",
      "source": [
        "# Prepare dataset\n",
        "class SentimentDataset(Dataset):\n",
        "    def __init__(self, encodings, labels):\n",
        "        self.encodings = encodings\n",
        "        self.labels = labels\n",
        "\n",
        "    def __getitem__(self, idx):\n",
        "        item = {key: torch.tensor(val[idx]) for key, val in self.encodings.items()}\n",
        "        item['labels'] = torch.tensor(self.labels[idx])\n",
        "        return item\n",
        "\n",
        "    def __len__(self):\n",
        "        return len(self.labels)\n",
        "\n",
        "# Split\n",
        "from sklearn.model_selection import train_test_split\n",
        "\n",
        "train_texts, val_texts, train_labels, val_labels = train_test_split(\n",
        "    final_df['text'], final_df['label'], test_size=0.2, random_state=42)\n",
        "\n",
        "train_encodings = tokenizer(train_texts.tolist(), truncation=True, padding=True)\n",
        "val_encodings = tokenizer(val_texts.tolist(), truncation=True, padding=True)\n",
        "\n",
        "train_dataset = SentimentDataset(train_encodings, train_labels.tolist())\n",
        "val_dataset = SentimentDataset(val_encodings, val_labels.tolist())"
      ],
      "metadata": {
        "id": "L5oWUdAc_8KU"
      },
      "id": "L5oWUdAc_8KU",
      "execution_count": null,
      "outputs": []
    },
    {
      "cell_type": "code",
      "source": [
        "# Sentiment label dataset (word-level sentiment via VADER)\n",
        "print(\"\\n📊 Sentiment Dataset Split Sizes:\")\n",
        "print(f\"Train: {len(train_texts)} samples\")\n",
        "print(f\"Test: {len(val_texts)} samples\")"
      ],
      "metadata": {
        "colab": {
          "base_uri": "https://localhost:8080/"
        },
        "id": "7oBUG1LDqv3x",
        "outputId": "3a72417d-fdf9-4b10-b41e-56ff670c096e"
      },
      "id": "7oBUG1LDqv3x",
      "execution_count": null,
      "outputs": [
        {
          "output_type": "stream",
          "name": "stdout",
          "text": [
            "\n",
            "📊 Sentiment Dataset Split Sizes:\n",
            "Train: 6675 samples\n",
            "Test: 1669 samples\n"
          ]
        }
      ]
    },
    {
      "cell_type": "code",
      "source": [
        "# Train\n",
        "device = torch.device('cuda' if torch.cuda.is_available() else 'cpu')\n",
        "\n",
        "model = RobertaForSequenceClassification.from_pretrained('roberta-base', num_labels=3)\n",
        "model.to(device)\n",
        "\n",
        "optimizer = AdamW(model.parameters(), lr=2e-5)\n",
        "train_loader = DataLoader(train_dataset, batch_size=16, shuffle=True)\n",
        "val_loader = DataLoader(val_dataset, batch_size=16, shuffle=False)"
      ],
      "metadata": {
        "colab": {
          "base_uri": "https://localhost:8080/"
        },
        "id": "D8kCjV4dAQ22",
        "outputId": "95a313ff-064d-49c6-8b3a-c38e6528eec1"
      },
      "id": "D8kCjV4dAQ22",
      "execution_count": null,
      "outputs": [
        {
          "output_type": "stream",
          "name": "stderr",
          "text": [
            "Some weights of RobertaForSequenceClassification were not initialized from the model checkpoint at roberta-base and are newly initialized: ['classifier.dense.bias', 'classifier.dense.weight', 'classifier.out_proj.bias', 'classifier.out_proj.weight']\n",
            "You should probably TRAIN this model on a down-stream task to be able to use it for predictions and inference.\n"
          ]
        }
      ]
    },
    {
      "cell_type": "code",
      "source": [
        "from tqdm import tqdm\n",
        "from sklearn.metrics import accuracy_score\n",
        "\n",
        "def train(model, train_loader, optimizer, epochs=3):\n",
        "    for epoch in range(epochs):\n",
        "        model.train()\n",
        "        total_loss = 0\n",
        "        all_preds = []\n",
        "        all_labels = []\n",
        "\n",
        "        loop = tqdm(train_loader, desc=f\"Epoch {epoch+1}\")\n",
        "\n",
        "        for batch in loop:\n",
        "            batch = {k: v.to(device) for k, v in batch.items()}\n",
        "            outputs = model(**batch)\n",
        "            loss = outputs.loss\n",
        "\n",
        "            # Predictions\n",
        "            preds = torch.argmax(outputs.logits, dim=1)\n",
        "            labels = batch['labels']\n",
        "\n",
        "            all_preds.extend(preds.cpu().numpy())\n",
        "            all_labels.extend(labels.cpu().numpy())\n",
        "\n",
        "            total_loss += loss.item()\n",
        "\n",
        "            optimizer.zero_grad()\n",
        "            loss.backward()\n",
        "            optimizer.step()\n",
        "\n",
        "            loop.set_postfix(loss=loss.item())\n",
        "\n",
        "        epoch_acc = accuracy_score(all_labels, all_preds)\n",
        "        print(f\"\\nEpoch {epoch+1} - Loss: {total_loss:.4f} - Accuracy: {epoch_acc:.4f}\\n\")"
      ],
      "metadata": {
        "id": "HMz6cxnDACA7"
      },
      "id": "HMz6cxnDACA7",
      "execution_count": null,
      "outputs": []
    },
    {
      "cell_type": "code",
      "source": [
        "# Evaluation\n",
        "def evaluate(model, loader):\n",
        "    model.eval()\n",
        "    all_preds = []\n",
        "    all_labels = []\n",
        "\n",
        "    with torch.no_grad():\n",
        "        for batch in loader:\n",
        "            input_ids = batch['input_ids'].to(device)\n",
        "            attention_mask = batch['attention_mask'].to(device)\n",
        "            labels = batch['labels'].to(device)\n",
        "\n",
        "            outputs = model(input_ids, attention_mask=attention_mask)\n",
        "            preds = torch.argmax(outputs.logits, dim=1)\n",
        "            all_preds.extend(preds.cpu().numpy())\n",
        "            all_labels.extend(labels.cpu().numpy())\n",
        "\n",
        "    target_names = [\"negative\", \"neutral\", \"positive\"]\n",
        "    print(\"Classification Report:\")\n",
        "    print(classification_report(all_labels, all_preds, target_names=target_names))\n",
        "\n",
        "    cm = confusion_matrix(all_labels, all_preds)\n",
        "    plt.figure(figsize=(8, 6))\n",
        "    sns.heatmap(cm, annot=True, fmt='d', cmap='Blues',\n",
        "                xticklabels=target_names, yticklabels=target_names)\n",
        "    plt.xlabel(\"Predicted\")\n",
        "    plt.ylabel(\"Actual\")\n",
        "    plt.title(\"Sentiment Classification - Confusion Matrix\")\n",
        "    plt.show()"
      ],
      "metadata": {
        "id": "Mxk9NxpbAE5L"
      },
      "id": "Mxk9NxpbAE5L",
      "execution_count": null,
      "outputs": []
    },
    {
      "cell_type": "code",
      "source": [
        "train(model, train_loader, optimizer, epochs=8)"
      ],
      "metadata": {
        "colab": {
          "base_uri": "https://localhost:8080/"
        },
        "id": "eRCAv2XuAGxk",
        "outputId": "bac4799a-85c2-4bec-ecf7-cf26da05cb58"
      },
      "id": "eRCAv2XuAGxk",
      "execution_count": null,
      "outputs": [
        {
          "output_type": "stream",
          "name": "stderr",
          "text": [
            "Epoch 1: 100%|██████████| 418/418 [05:56<00:00,  1.17it/s, loss=0.419]\n"
          ]
        },
        {
          "output_type": "stream",
          "name": "stdout",
          "text": [
            "\n",
            "Epoch 1 - Loss: 175.5255 - Accuracy: 0.8602\n",
            "\n"
          ]
        },
        {
          "output_type": "stream",
          "name": "stderr",
          "text": [
            "Epoch 2: 100%|██████████| 418/418 [05:56<00:00,  1.17it/s, loss=0.0925]\n"
          ]
        },
        {
          "output_type": "stream",
          "name": "stdout",
          "text": [
            "\n",
            "Epoch 2 - Loss: 102.8826 - Accuracy: 0.9164\n",
            "\n"
          ]
        },
        {
          "output_type": "stream",
          "name": "stderr",
          "text": [
            "Epoch 3: 100%|██████████| 418/418 [05:56<00:00,  1.17it/s, loss=1.21]\n"
          ]
        },
        {
          "output_type": "stream",
          "name": "stdout",
          "text": [
            "\n",
            "Epoch 3 - Loss: 70.8021 - Accuracy: 0.9432\n",
            "\n"
          ]
        },
        {
          "output_type": "stream",
          "name": "stderr",
          "text": [
            "Epoch 4: 100%|██████████| 418/418 [05:56<00:00,  1.17it/s, loss=0.00162]\n"
          ]
        },
        {
          "output_type": "stream",
          "name": "stdout",
          "text": [
            "\n",
            "Epoch 4 - Loss: 48.8697 - Accuracy: 0.9621\n",
            "\n"
          ]
        },
        {
          "output_type": "stream",
          "name": "stderr",
          "text": [
            "Epoch 5: 100%|██████████| 418/418 [05:56<00:00,  1.17it/s, loss=0.0117]\n"
          ]
        },
        {
          "output_type": "stream",
          "name": "stdout",
          "text": [
            "\n",
            "Epoch 5 - Loss: 32.9843 - Accuracy: 0.9756\n",
            "\n"
          ]
        },
        {
          "output_type": "stream",
          "name": "stderr",
          "text": [
            "Epoch 6: 100%|██████████| 418/418 [05:54<00:00,  1.18it/s, loss=0.00176]\n"
          ]
        },
        {
          "output_type": "stream",
          "name": "stdout",
          "text": [
            "\n",
            "Epoch 6 - Loss: 29.2950 - Accuracy: 0.9775\n",
            "\n"
          ]
        },
        {
          "output_type": "stream",
          "name": "stderr",
          "text": [
            "Epoch 7: 100%|██████████| 418/418 [05:56<00:00,  1.17it/s, loss=0.00154]\n"
          ]
        },
        {
          "output_type": "stream",
          "name": "stdout",
          "text": [
            "\n",
            "Epoch 7 - Loss: 22.9830 - Accuracy: 0.9823\n",
            "\n"
          ]
        },
        {
          "output_type": "stream",
          "name": "stderr",
          "text": [
            "Epoch 8: 100%|██████████| 418/418 [06:07<00:00,  1.14it/s, loss=0.00234]"
          ]
        },
        {
          "output_type": "stream",
          "name": "stdout",
          "text": [
            "\n",
            "Epoch 8 - Loss: 19.1212 - Accuracy: 0.9856\n",
            "\n"
          ]
        },
        {
          "output_type": "stream",
          "name": "stderr",
          "text": [
            "\n"
          ]
        }
      ]
    },
    {
      "cell_type": "code",
      "source": [
        "evaluate(model, val_loader)"
      ],
      "metadata": {
        "id": "wl5Hfpa0AKTr",
        "colab": {
          "base_uri": "https://localhost:8080/",
          "height": 755
        },
        "outputId": "a71ca836-0ee0-48fd-ea14-4ae91bde5489"
      },
      "id": "wl5Hfpa0AKTr",
      "execution_count": null,
      "outputs": [
        {
          "output_type": "stream",
          "name": "stdout",
          "text": [
            "Classification Report:\n",
            "              precision    recall  f1-score   support\n",
            "\n",
            "    negative       0.85      0.75      0.80       130\n",
            "     neutral       0.94      0.98      0.96      1388\n",
            "    positive       0.89      0.67      0.76       151\n",
            "\n",
            "    accuracy                           0.93      1669\n",
            "   macro avg       0.89      0.80      0.84      1669\n",
            "weighted avg       0.93      0.93      0.93      1669\n",
            "\n"
          ]
        },
        {
          "output_type": "display_data",
          "data": {
            "text/plain": [
              "<Figure size 800x600 with 2 Axes>"
            ],
            "image/png": "[encoded data removed]"
          },
          "metadata": {}
        }
      ]
    },
    {
      "cell_type": "code",
      "source": [
        "text = \"awesome\"\n",
        "inputs = tokenizer(text, return_tensors=\"pt\", truncation=True, padding=True).to(device)\n",
        "\n",
        "model.eval()\n",
        "with torch.no_grad():\n",
        "    outputs = model(**inputs)\n",
        "    pred = torch.argmax(outputs.logits, dim=1).item()\n",
        "\n",
        "# Map class ID to label\n",
        "label_map = {0: \"negative\", 1: \"neutral\", 2: \"positive\"}\n",
        "print(f\"Text: {text}\")\n",
        "print(f\"Predicted Sentiment: {label_map[pred]}\")"
      ],
      "metadata": {
        "colab": {
          "base_uri": "https://localhost:8080/"
        },
        "id": "nDb-0G2qoUJT",
        "outputId": "65e2662d-1a65-4717-e06c-d62562fe16cf"
      },
      "id": "nDb-0G2qoUJT",
      "execution_count": null,
      "outputs": [
        {
          "output_type": "stream",
          "name": "stdout",
          "text": [
            "Text: awesome\n",
            "Predicted Sentiment: positive\n"
          ]
        }
      ]
    },
    {
      "cell_type": "code",
      "source": [
        "save_dir = \"gs://sutd_ai_project/sentiment_roberta_model\"\n",
        "local_model_dir = \"/tmp/sentiment_roberta_model\"\n",
        "\n",
        "# Save locally first\n",
        "model.save_pretrained(local_model_dir)\n",
        "tokenizer.save_pretrained(local_model_dir)"
      ],
      "metadata": {
        "colab": {
          "base_uri": "https://localhost:8080/"
        },
        "id": "HOB-ITNRUQ3y",
        "outputId": "0949a504-0f57-4d8b-ed2d-9f88c891c827"
      },
      "id": "HOB-ITNRUQ3y",
      "execution_count": null,
      "outputs": [
        {
          "output_type": "execute_result",
          "data": {
            "text/plain": [
              "('/tmp/sentiment_roberta_model/tokenizer_config.json',\n",
              " '/tmp/sentiment_roberta_model/special_tokens_map.json',\n",
              " '/tmp/sentiment_roberta_model/vocab.json',\n",
              " '/tmp/sentiment_roberta_model/merges.txt',\n",
              " '/tmp/sentiment_roberta_model/added_tokens.json')"
            ]
          },
          "metadata": {},
          "execution_count": 40
        }
      ]
    },
    {
      "cell_type": "code",
      "source": [
        "!gsutil -m cp -r /tmp/sentiment_roberta_model gs://sutd_ai_project/"
      ],
      "metadata": {
        "colab": {
          "base_uri": "https://localhost:8080/"
        },
        "id": "u9Gp34Dci12t",
        "outputId": "99cff2f1-aad8-420a-a4a4-0ba0b420db71"
      },
      "id": "u9Gp34Dci12t",
      "execution_count": null,
      "outputs": [
        {
          "output_type": "stream",
          "name": "stdout",
          "text": [
            "Copying file:///tmp/sentiment_roberta_model/vocab.json [Content-Type=application/json]...\n",
            "/ [0/6 files][    0.0 B/476.9 MiB]   0% Done                                    \rCopying file:///tmp/sentiment_roberta_model/tokenizer_config.json [Content-Type=application/json]...\n",
            "Copying file:///tmp/sentiment_roberta_model/special_tokens_map.json [Content-Type=application/json]...\n",
            "Copying file:///tmp/sentiment_roberta_model/merges.txt [Content-Type=text/plain]...\n",
            "/ [0/6 files][    0.0 B/476.9 MiB]   0% Done                                    \r/ [0/6 files][    0.0 B/476.9 MiB]   0% Done                                    \r/ [0/6 files][    0.0 B/476.9 MiB]   0% Done                                    \rCopying file:///tmp/sentiment_roberta_model/config.json [Content-Type=application/json]...\n",
            "/ [0/6 files][    0.0 B/476.9 MiB]   0% Done                                    \rCopying file:///tmp/sentiment_roberta_model/model.safetensors [Content-Type=application/octet-stream]...\n",
            "/ [0/6 files][    0.0 B/476.9 MiB]   0% Done                                    \r==> NOTE: You are uploading one or more large file(s), which would run\n",
            "significantly faster if you enable parallel composite uploads. This\n",
            "feature can be enabled by editing the\n",
            "\"parallel_composite_upload_threshold\" value in your .boto\n",
            "configuration file. However, note that if you do this large files will\n",
            "be uploaded as `composite objects\n",
            "<https://cloud.google.com/storage/docs/composite-objects>`_,which\n",
            "means that any user who downloads such objects will need to have a\n",
            "compiled crcmod installed (see \"gsutil help crcmod\"). This is because\n",
            "without a compiled crcmod, computing checksums on composite objects is\n",
            "so slow that gsutil disables downloads of composite objects.\n",
            "\n",
            "\\ [6/6 files][476.9 MiB/476.9 MiB] 100% Done                                    \n",
            "Operation completed over 6 objects/476.9 MiB.                                    \n"
          ]
        }
      ]
    },
    {
      "cell_type": "code",
      "source": [
        "!gsutil -m cp -r \\\n",
        "  \"gs://sutd_ai_project/sentiment_roberta_model\" \\\n",
        "  ."
      ],
      "metadata": {
        "colab": {
          "base_uri": "https://localhost:8080/"
        },
        "id": "5sk3kFD9kXJV",
        "outputId": "628084ed-70d6-473e-d9c0-928c0e19f9f0"
      },
      "id": "5sk3kFD9kXJV",
      "execution_count": null,
      "outputs": [
        {
          "output_type": "stream",
          "name": "stdout",
          "text": [
            "Copying gs://sutd_ai_project/sentiment_roberta_model/config.json...\n",
            "/ [0/6 files][    0.0 B/476.9 MiB]   0% Done                                    \rCopying gs://sutd_ai_project/sentiment_roberta_model/model.safetensors...\n",
            "Copying gs://sutd_ai_project/sentiment_roberta_model/merges.txt...\n",
            "/ [0/6 files][    0.0 B/476.9 MiB]   0% Done                                    \r/ [0/6 files][    0.0 B/476.9 MiB]   0% Done                                    \rCopying gs://sutd_ai_project/sentiment_roberta_model/special_tokens_map.json...\n",
            "Copying gs://sutd_ai_project/sentiment_roberta_model/tokenizer_config.json...\n",
            "/ [0/6 files][    0.0 B/476.9 MiB]   0% Done                                    \r/ [0/6 files][    0.0 B/476.9 MiB]   0% Done                                    \r==> NOTE: You are downloading one or more large file(s), which would\n",
            "run significantly faster if you enabled sliced object downloads. This\n",
            "feature is enabled by default but requires that compiled crcmod be\n",
            "installed (see \"gsutil help crcmod\").\n",
            "\n",
            "Copying gs://sutd_ai_project/sentiment_roberta_model/vocab.json...\n",
            "\\\n",
            "Operation completed over 6 objects/476.9 MiB.                                    \n"
          ]
        }
      ]
    },
    {
      "cell_type": "code",
      "source": [],
      "metadata": {
        "id": "DQJca6k2iFYW"
      },
      "id": "DQJca6k2iFYW",
      "execution_count": null,
      "outputs": []
    }
  ],
  "metadata": {
    "kernelspec": {
      "display_name": "Python 3",
      "language": "python",
      "name": "python3"
    },
    "language_info": {
      "codemirror_mode": {
        "name": "ipython",
        "version": 3
      },
      "file_extension": ".py",
      "mimetype": "text/x-python",
      "name": "python",
      "nbconvert_exporter": "python",
      "pygments_lexer": "ipython3",
      "version": "3.10.10"
    },
    "colab": {
      "provenance": [],
      "name": "roberta_training"
    }
  },
  "nbformat": 4,
  "nbformat_minor": 5
}